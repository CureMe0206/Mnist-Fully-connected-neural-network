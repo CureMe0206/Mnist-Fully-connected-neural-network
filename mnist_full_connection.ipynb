{
 "cells": [
  {
   "cell_type": "code",
   "execution_count": 1,
   "metadata": {
    "collapsed": true
   },
   "outputs": [],
   "source": [
    "import tensorflow as tf\n",
    "from tensorflow.examples.tutorials.mnist import input_data\n",
    "import numpy as np\n",
    "from PIL import Image\n",
    "import matplotlib.pyplot as plt"
   ]
  },
  {
   "cell_type": "code",
   "execution_count": 2,
   "metadata": {},
   "outputs": [
    {
     "name": "stdout",
     "output_type": "stream",
     "text": [
      "Extracting data/train-images-idx3-ubyte.gz\n",
      "Extracting data/train-labels-idx1-ubyte.gz\n",
      "Extracting data/t10k-images-idx3-ubyte.gz\n",
      "Extracting data/t10k-labels-idx1-ubyte.gz\n"
     ]
    }
   ],
   "source": [
    "data = input_data.read_data_sets('data/',one_hot=True)"
   ]
  },
  {
   "cell_type": "code",
   "execution_count": 3,
   "metadata": {},
   "outputs": [],
   "source": [
    "x = tf.placeholder(dtype=tf.float32,shape = [None,784],name = \"input\")\n",
    "y = tf.placeholder(dtype=tf.float32,shape = [None,10],name = \"result\")\n",
    "para = {\n",
    "    \"W1\":tf.Variable(tf.random_normal([784,256],mean=0.0,stddev=1/np.sqrt(784)),name = \"W1\"),\n",
    "    \"B1\":tf.Variable(tf.zeros([256],name = \"B1\")),\n",
    "    \"W2\":tf.Variable(tf.random_normal([256,128],mean=0.0,stddev=1/np.sqrt(256)),name = \"W2\"),\n",
    "    \"B2\":tf.Variable(tf.zeros([128],name = \"B2\")),\n",
    "    \"W3\":tf.Variable(tf.random_normal([128,10],mean=0.0,stddev=1/np.sqrt(128)),name = \"W3\"),\n",
    "    \"B3\":tf.Variable(tf.zeros([10],name = \"B3\"))\n",
    "}"
   ]
  },
  {
   "cell_type": "code",
   "execution_count": 4,
   "metadata": {},
   "outputs": [
    {
     "name": "stdout",
     "output_type": "stream",
     "text": [
      "WARNING:tensorflow:From <ipython-input-4-3f695e4dc6e3>:9: arg_max (from tensorflow.python.ops.gen_math_ops) is deprecated and will be removed in a future version.\n",
      "Instructions for updating:\n",
      "Use `argmax` instead\n"
     ]
    }
   ],
   "source": [
    "lay_1 = tf.matmul(x,para[\"W1\"])+para[\"B1\"]\n",
    "lay_1_out = tf.nn.sigmoid(lay_1)\n",
    "lay_2 = tf.matmul(lay_1_out,para[\"W2\"])+para[\"B2\"]\n",
    "lay_2_out = tf.nn.sigmoid(lay_2)\n",
    "lay_3 = tf.matmul(lay_2_out,para[\"W3\"])+para[\"B3\"]\n",
    "pred = tf.nn.softmax(lay_3)\n",
    "cost = tf.reduce_mean(tf.nn.softmax_cross_entropy_with_logits(logits=pred,labels=y))\n",
    "opti = tf.train.GradientDescentOptimizer(0.2).minimize(cost)\n",
    "result = tf.equal(tf.arg_max(pred,1),tf.arg_max(y,1))\n",
    "accu = tf.reduce_mean(tf.cast(result,tf.float32))"
   ]
  },
  {
   "cell_type": "code",
   "execution_count": 5,
   "metadata": {},
   "outputs": [
    {
     "name": "stdout",
     "output_type": "stream",
     "text": [
      "inter:0,accuracy_test:0.20350000262260437,accuracy_train:0.20999999344348907,cost:2.2718966007232666\n",
      "inter:1,accuracy_test:0.38199999928474426,accuracy_train:0.4300000071525574,cost:2.1125729084014893\n",
      "inter:2,accuracy_test:0.4812999963760376,accuracy_train:0.5099999904632568,cost:1.9940376281738281\n",
      "inter:3,accuracy_test:0.6297000050544739,accuracy_train:0.6100000143051147,cost:1.9078561067581177\n",
      "inter:4,accuracy_test:0.6615999937057495,accuracy_train:0.6399999856948853,cost:1.86088228225708\n",
      "inter:5,accuracy_test:0.6705999970436096,accuracy_train:0.699999988079071,cost:1.7665170431137085\n",
      "inter:6,accuracy_test:0.6744999885559082,accuracy_train:0.7200000286102295,cost:1.7451844215393066\n",
      "inter:7,accuracy_test:0.7184000015258789,accuracy_train:0.7400000095367432,cost:1.7454317808151245\n",
      "inter:8,accuracy_test:0.7407000064849854,accuracy_train:0.7200000286102295,cost:1.7590793371200562\n",
      "inter:9,accuracy_test:0.8162000179290771,accuracy_train:0.800000011920929,cost:1.6892820596694946\n",
      "inter:10,accuracy_test:0.8284000158309937,accuracy_train:0.7799999713897705,cost:1.7018643617630005\n",
      "inter:11,accuracy_test:0.8323000073432922,accuracy_train:0.8399999737739563,cost:1.6598471403121948\n",
      "inter:12,accuracy_test:0.8366000056266785,accuracy_train:0.8700000047683716,cost:1.6148834228515625\n",
      "inter:13,accuracy_test:0.8396000266075134,accuracy_train:0.8199999928474426,cost:1.6545132398605347\n",
      "inter:14,accuracy_test:0.84170001745224,accuracy_train:0.8700000047683716,cost:1.6165939569473267\n",
      "inter:15,accuracy_test:0.8440999984741211,accuracy_train:0.8100000023841858,cost:1.6673985719680786\n",
      "inter:16,accuracy_test:0.8460000157356262,accuracy_train:0.8600000143051147,cost:1.6389142274856567\n",
      "inter:17,accuracy_test:0.847000002861023,accuracy_train:0.7900000214576721,cost:1.6817278861999512\n",
      "inter:18,accuracy_test:0.8482000231742859,accuracy_train:0.8299999833106995,cost:1.6418342590332031\n",
      "inter:19,accuracy_test:0.8508999943733215,accuracy_train:0.8999999761581421,cost:1.5780924558639526\n",
      "inter:20,accuracy_test:0.8518000245094299,accuracy_train:0.8600000143051147,cost:1.6129591464996338\n",
      "inter:21,accuracy_test:0.8521999716758728,accuracy_train:0.8399999737739563,cost:1.6404789686203003\n",
      "inter:22,accuracy_test:0.8920000195503235,accuracy_train:0.8500000238418579,cost:1.6632100343704224\n",
      "inter:23,accuracy_test:0.9063000082969666,accuracy_train:0.8600000143051147,cost:1.6007239818572998\n",
      "inter:24,accuracy_test:0.9115999937057495,accuracy_train:0.949999988079071,cost:1.5552129745483398\n",
      "inter:25,accuracy_test:0.9132000207901001,accuracy_train:0.9399999976158142,cost:1.5382318496704102\n",
      "inter:26,accuracy_test:0.9158999919891357,accuracy_train:0.9200000166893005,cost:1.5581190586090088\n",
      "inter:27,accuracy_test:0.9182999730110168,accuracy_train:0.9300000071525574,cost:1.5501152276992798\n",
      "inter:28,accuracy_test:0.9208999872207642,accuracy_train:0.8899999856948853,cost:1.5859200954437256\n",
      "inter:29,accuracy_test:0.9218000173568726,accuracy_train:0.9399999976158142,cost:1.5342724323272705\n",
      "inter:30,accuracy_test:0.9229999780654907,accuracy_train:0.9200000166893005,cost:1.5472629070281982\n",
      "inter:31,accuracy_test:0.9251999855041504,accuracy_train:0.9100000262260437,cost:1.5696526765823364\n",
      "inter:32,accuracy_test:0.9261000156402588,accuracy_train:0.9300000071525574,cost:1.548081398010254\n",
      "inter:33,accuracy_test:0.9254999756813049,accuracy_train:0.949999988079071,cost:1.5307823419570923\n",
      "inter:34,accuracy_test:0.9283999800682068,accuracy_train:0.9599999785423279,cost:1.5044817924499512\n",
      "inter:35,accuracy_test:0.9301999807357788,accuracy_train:0.9100000262260437,cost:1.556145429611206\n",
      "inter:36,accuracy_test:0.9302999973297119,accuracy_train:0.9599999785423279,cost:1.5081279277801514\n",
      "inter:37,accuracy_test:0.9325000047683716,accuracy_train:0.9100000262260437,cost:1.5556080341339111\n",
      "inter:38,accuracy_test:0.9336000084877014,accuracy_train:0.9399999976158142,cost:1.5260745286941528\n",
      "inter:39,accuracy_test:0.9329000115394592,accuracy_train:0.9399999976158142,cost:1.5340030193328857\n",
      "inter:40,accuracy_test:0.9340000152587891,accuracy_train:0.9300000071525574,cost:1.534848928451538\n",
      "inter:41,accuracy_test:0.9354000091552734,accuracy_train:0.9399999976158142,cost:1.554031491279602\n",
      "inter:42,accuracy_test:0.9361000061035156,accuracy_train:0.9300000071525574,cost:1.538792610168457\n",
      "inter:43,accuracy_test:0.9369000196456909,accuracy_train:0.9300000071525574,cost:1.5337929725646973\n",
      "inter:44,accuracy_test:0.9372000098228455,accuracy_train:0.9800000190734863,cost:1.4991631507873535\n",
      "inter:45,accuracy_test:0.9384999871253967,accuracy_train:0.9599999785423279,cost:1.5153145790100098\n",
      "inter:46,accuracy_test:0.9383000135421753,accuracy_train:0.9700000286102295,cost:1.503130316734314\n",
      "inter:47,accuracy_test:0.9387000203132629,accuracy_train:0.949999988079071,cost:1.5336555242538452\n",
      "inter:48,accuracy_test:0.940500020980835,accuracy_train:0.9399999976158142,cost:1.523343801498413\n",
      "inter:49,accuracy_test:0.9412000179290771,accuracy_train:0.9700000286102295,cost:1.502414345741272\n",
      "inter:50,accuracy_test:0.9409999847412109,accuracy_train:0.9300000071525574,cost:1.534104585647583\n",
      "inter:51,accuracy_test:0.9420999884605408,accuracy_train:0.949999988079071,cost:1.5226352214813232\n",
      "inter:52,accuracy_test:0.9430999755859375,accuracy_train:0.9200000166893005,cost:1.5502914190292358\n",
      "inter:53,accuracy_test:0.9430999755859375,accuracy_train:0.9700000286102295,cost:1.496483325958252\n",
      "inter:54,accuracy_test:0.944599986076355,accuracy_train:0.9300000071525574,cost:1.5415858030319214\n",
      "inter:55,accuracy_test:0.9448999762535095,accuracy_train:0.949999988079071,cost:1.518137812614441\n",
      "inter:56,accuracy_test:0.9452000260353088,accuracy_train:0.9399999976158142,cost:1.5375629663467407\n",
      "inter:57,accuracy_test:0.9452999830245972,accuracy_train:0.949999988079071,cost:1.5206068754196167\n",
      "inter:58,accuracy_test:0.9466000199317932,accuracy_train:0.9300000071525574,cost:1.552539348602295\n",
      "inter:59,accuracy_test:0.9474999904632568,accuracy_train:0.9700000286102295,cost:1.5006000995635986\n",
      "inter:60,accuracy_test:0.9477999806404114,accuracy_train:0.9800000190734863,cost:1.4874969720840454\n",
      "inter:61,accuracy_test:0.9472000002861023,accuracy_train:0.9599999785423279,cost:1.5072109699249268\n",
      "inter:62,accuracy_test:0.9476000070571899,accuracy_train:0.9700000286102295,cost:1.497775673866272\n",
      "inter:63,accuracy_test:0.9495000243186951,accuracy_train:0.9700000286102295,cost:1.494674801826477\n",
      "inter:64,accuracy_test:0.9498000144958496,accuracy_train:0.949999988079071,cost:1.5150521993637085\n",
      "inter:65,accuracy_test:0.9495000243186951,accuracy_train:0.9399999976158142,cost:1.5312637090682983\n",
      "inter:66,accuracy_test:0.9502000212669373,accuracy_train:0.9900000095367432,cost:1.4744120836257935\n",
      "inter:67,accuracy_test:0.9502999782562256,accuracy_train:0.9700000286102295,cost:1.4976016283035278\n",
      "inter:68,accuracy_test:0.9506000280380249,accuracy_train:0.9599999785423279,cost:1.5167961120605469\n",
      "inter:69,accuracy_test:0.9510999917984009,accuracy_train:0.9599999785423279,cost:1.5115938186645508\n",
      "inter:70,accuracy_test:0.9519000053405762,accuracy_train:0.9399999976158142,cost:1.5259977579116821\n",
      "inter:71,accuracy_test:0.9524000287055969,accuracy_train:0.949999988079071,cost:1.5230929851531982\n",
      "inter:72,accuracy_test:0.9521999955177307,accuracy_train:0.9599999785423279,cost:1.5118135213851929\n",
      "inter:73,accuracy_test:0.9531999826431274,accuracy_train:0.949999988079071,cost:1.517950177192688\n",
      "inter:74,accuracy_test:0.9531000256538391,accuracy_train:0.9800000190734863,cost:1.490451693534851\n",
      "inter:75,accuracy_test:0.9528999924659729,accuracy_train:0.9700000286102295,cost:1.5134903192520142\n",
      "inter:76,accuracy_test:0.9526000022888184,accuracy_train:0.9700000286102295,cost:1.499274492263794\n",
      "inter:77,accuracy_test:0.9538999795913696,accuracy_train:0.9300000071525574,cost:1.5266543626785278\n",
      "inter:78,accuracy_test:0.9539999961853027,accuracy_train:0.9800000190734863,cost:1.4905353784561157\n",
      "inter:79,accuracy_test:0.9535999894142151,accuracy_train:0.9599999785423279,cost:1.4989140033721924\n",
      "inter:80,accuracy_test:0.9538999795913696,accuracy_train:0.9900000095367432,cost:1.4834305047988892\n",
      "inter:81,accuracy_test:0.9549000263214111,accuracy_train:0.9700000286102295,cost:1.494786024093628\n",
      "inter:82,accuracy_test:0.9557999968528748,accuracy_train:0.9700000286102295,cost:1.5106691122055054\n"
     ]
    },
    {
     "name": "stdout",
     "output_type": "stream",
     "text": [
      "inter:83,accuracy_test:0.9553999900817871,accuracy_train:0.9700000286102295,cost:1.4908589124679565\n",
      "inter:84,accuracy_test:0.9553999900817871,accuracy_train:0.9399999976158142,cost:1.5205268859863281\n",
      "inter:85,accuracy_test:0.9563000202178955,accuracy_train:0.9800000190734863,cost:1.4854393005371094\n",
      "inter:86,accuracy_test:0.9562000036239624,accuracy_train:0.9700000286102295,cost:1.4961990118026733\n",
      "inter:87,accuracy_test:0.9560999870300293,accuracy_train:0.9200000166893005,cost:1.5399580001831055\n",
      "inter:88,accuracy_test:0.9564999938011169,accuracy_train:0.9700000286102295,cost:1.4910436868667603\n",
      "inter:89,accuracy_test:0.9574000239372253,accuracy_train:0.9599999785423279,cost:1.5091930627822876\n",
      "inter:90,accuracy_test:0.9577000141143799,accuracy_train:0.9399999976158142,cost:1.528169870376587\n",
      "inter:91,accuracy_test:0.9573000073432922,accuracy_train:0.9800000190734863,cost:1.4933178424835205\n",
      "inter:92,accuracy_test:0.9577000141143799,accuracy_train:0.9900000095367432,cost:1.4714692831039429\n",
      "inter:93,accuracy_test:0.9577999711036682,accuracy_train:0.9599999785423279,cost:1.511557936668396\n",
      "inter:94,accuracy_test:0.9578999876976013,accuracy_train:0.9700000286102295,cost:1.5001766681671143\n",
      "inter:95,accuracy_test:0.9581000208854675,accuracy_train:0.9599999785423279,cost:1.510806679725647\n",
      "inter:96,accuracy_test:0.9588000178337097,accuracy_train:0.9700000286102295,cost:1.4964208602905273\n",
      "inter:97,accuracy_test:0.958899974822998,accuracy_train:0.9700000286102295,cost:1.4971710443496704\n",
      "inter:98,accuracy_test:0.9592000246047974,accuracy_train:0.9900000095367432,cost:1.4782910346984863\n",
      "inter:99,accuracy_test:0.9595999717712402,accuracy_train:0.9700000286102295,cost:1.4979641437530518\n"
     ]
    }
   ],
   "source": [
    "saver = tf.train.Saver(max_to_keep = 2)\n",
    "with tf.Session() as sess:\n",
    "    sess.run(tf.global_variables_initializer())\n",
    "    batch_size = 100\n",
    "    epoch = 100\n",
    "    inters = data.train.num_examples//batch_size\n",
    "    for e in range(epoch):\n",
    "        for inter in range(inters):\n",
    "            train_x,train_y = data.train.next_batch(batch_size)\n",
    "            _,cost1 = sess.run([opti,cost],feed_dict = {x:train_x,y:train_y})\n",
    "        accuracy_test = sess.run(accu,feed_dict={x:data.test.images,y:data.test.labels})\n",
    "        accuracy_train = sess.run(accu,feed_dict={x:train_x,y:train_y})\n",
    "        saver.save(sess,\"save/mnist.ckpt\",global_step = e)\n",
    "        print(\"inter:{0},accuracy_test:{1},accuracy_train:{2},cost:{3}\".format(e,accuracy_test,accuracy_train,cost1))"
   ]
  },
  {
   "cell_type": "code",
   "execution_count": 8,
   "metadata": {},
   "outputs": [
    {
     "name": "stdout",
     "output_type": "stream",
     "text": [
      "INFO:tensorflow:Restoring parameters from save/mnist.ckpt-99\n",
      "真实值为[7]预测值为[7]\n"
     ]
    },
    {
     "data": {
      "image/png": "[encoded data removed]",
      "text/plain": [
       "<Figure size 288x288 with 1 Axes>"
      ]
     },
     "metadata": {},
     "output_type": "display_data"
    },
    {
     "name": "stdout",
     "output_type": "stream",
     "text": [
      "真实值为[2]预测值为[2]\n"
     ]
    },
    {
     "data": {
      "image/png": "[encoded data removed]",
      "text/plain": [
       "<Figure size 288x288 with 1 Axes>"
      ]
     },
     "metadata": {},
     "output_type": "display_data"
    },
    {
     "name": "stdout",
     "output_type": "stream",
     "text": [
      "真实值为[1]预测值为[1]\n"
     ]
    },
    {
     "data": {
      "image/png": "[encoded data removed]",
      "text/plain": [
       "<Figure size 288x288 with 1 Axes>"
      ]
     },
     "metadata": {},
     "output_type": "display_data"
    },
    {
     "name": "stdout",
     "output_type": "stream",
     "text": [
      "真实值为[0]预测值为[0]\n"
     ]
    },
    {
     "data": {
      "image/png": "[encoded data removed]",
      "text/plain": [
       "<Figure size 288x288 with 1 Axes>"
      ]
     },
     "metadata": {},
     "output_type": "display_data"
    },
    {
     "name": "stdout",
     "output_type": "stream",
     "text": [
      "真实值为[4]预测值为[4]\n"
     ]
    },
    {
     "data": {
      "image/png": "[encoded data removed]",
      "text/plain": [
       "<Figure size 288x288 with 1 Axes>"
      ]
     },
     "metadata": {},
     "output_type": "display_data"
    },
    {
     "name": "stdout",
     "output_type": "stream",
     "text": [
      "真实值为[1]预测值为[1]\n"
     ]
    },
    {
     "data": {
      "image/png": "[encoded data removed]",
      "text/plain": [
       "<Figure size 288x288 with 1 Axes>"
      ]
     },
     "metadata": {},
     "output_type": "display_data"
    },
    {
     "name": "stdout",
     "output_type": "stream",
     "text": [
      "真实值为[4]预测值为[4]\n"
     ]
    },
    {
     "data": {
      "image/png": "[encoded data removed]",
      "text/plain": [
       "<Figure size 288x288 with 1 Axes>"
      ]
     },
     "metadata": {},
     "output_type": "display_data"
    },
    {
     "name": "stdout",
     "output_type": "stream",
     "text": [
      "真实值为[9]预测值为[9]\n"
     ]
    },
    {
     "data": {
      "image/png": "[encoded data removed]",
      "text/plain": [
       "<Figure size 288x288 with 1 Axes>"
      ]
     },
     "metadata": {},
     "output_type": "display_data"
    },
    {
     "name": "stdout",
     "output_type": "stream",
     "text": [
      "真实值为[5]预测值为[6]\n"
     ]
    },
    {
     "data": {
      "image/png": "[encoded data removed]",
      "text/plain": [
       "<Figure size 288x288 with 1 Axes>"
      ]
     },
     "metadata": {},
     "output_type": "display_data"
    },
    {
     "name": "stdout",
     "output_type": "stream",
     "text": [
      "真实值为[9]预测值为[9]\n"
     ]
    },
    {
     "data": {
      "image/png": "[encoded data removed]",
      "text/plain": [
       "<Figure size 288x288 with 1 Axes>"
      ]
     },
     "metadata": {},
     "output_type": "display_data"
    }
   ],
   "source": [
    "saver = tf.train.Saver()\n",
    "with tf.Session() as sess:\n",
    "    sess.run(tf.global_variables_initializer())\n",
    "    saver.restore(sess,\"save/mnist.ckpt-99\")\n",
    "    for i in range(10):\n",
    "        test_image = data.test.images[i]\n",
    "        test_image = np.reshape(test_image,[1,784])\n",
    "        test_label = data.test.labels[i]\n",
    "        test_label = np.reshape(test_label,[1,10])\n",
    "        pred1 = sess.run(pred,feed_dict={x:test_image})\n",
    "        position_pred = tf.arg_max(pred1,1)\n",
    "        position_true = tf.arg_max(test_label,1)\n",
    "        image = np.reshape(test_image,(28,28))\n",
    "        print(\"真实值为{0}预测值为{1}\".format(position_true.eval(),position_pred.eval()))\n",
    "        plt.matshow(image)\n",
    "        plt.show()"
   ]
  },
  {
   "cell_type": "code",
   "execution_count": 6,
   "metadata": {},
   "outputs": [
    {
     "name": "stdout",
     "output_type": "stream",
     "text": [
      "tensor_name:  Variable\n",
      "[ 6.32414892e-02 -7.74034262e-02 -4.85556312e-02  9.31345075e-02\n",
      "  2.04261038e-02 -1.17375188e-01 -1.42213760e-03  2.72181761e-02\n",
      " -9.46704447e-02 -5.23958504e-02 -6.34171367e-02  3.54341650e-03\n",
      " -1.94154847e-02 -1.92647316e-02 -5.20817526e-02 -1.80032279e-04\n",
      " -3.56589183e-02  7.46541619e-02 -1.78603586e-02  9.68083665e-02\n",
      " -3.36481892e-02  2.43276451e-03  5.56132477e-03 -2.63980962e-02\n",
      " -7.73905441e-02 -5.84203638e-02  4.88789715e-02 -6.88434243e-02\n",
      " -1.19304799e-01 -5.06241918e-02 -3.34248357e-02 -1.45361526e-02\n",
      "  7.76318368e-03 -1.29713893e-01  5.56989834e-02 -9.33881551e-02\n",
      "  3.02413292e-02  2.21517205e-01  9.22332704e-03 -3.29935737e-02\n",
      "  7.80349672e-02 -1.65988103e-01 -1.29033223e-01  1.68467462e-02\n",
      " -7.30492622e-02 -3.31881307e-02 -2.97549330e-02 -1.38019100e-01\n",
      " -6.32659122e-02  7.63002858e-02  5.24513014e-02  2.04158742e-02\n",
      " -5.34091368e-02  1.02135852e-01 -5.56975342e-02 -1.25477258e-02\n",
      " -7.41133690e-02  1.03960454e-01 -2.13784520e-02  5.19641340e-02\n",
      " -1.32674128e-02 -4.11864854e-02  5.29921278e-02  1.50127159e-02\n",
      " -6.19071983e-02 -6.57545477e-02  4.00296673e-02 -9.63888839e-02\n",
      "  1.62162945e-01  5.95658273e-02 -6.57373890e-02  4.43536192e-02\n",
      "  2.59125652e-03 -4.37314622e-02 -1.68651089e-01  4.83867414e-02\n",
      " -1.59424059e-02  1.47540808e-01  7.59404376e-02 -2.82518148e-01\n",
      "  6.36075810e-02  2.26726476e-02  7.28082433e-02  5.00077233e-02\n",
      "  1.53010071e-03  9.95956883e-02  7.32720718e-02  5.10093160e-02\n",
      " -3.50836366e-02 -5.79823926e-02 -7.74580017e-02 -2.54078954e-02\n",
      "  1.44598810e-02 -1.18369110e-01  1.54980883e-01 -3.55761088e-02\n",
      "  2.74272338e-02 -1.48161445e-02 -5.13911620e-02 -1.14318967e-01\n",
      " -4.54438403e-02 -8.08334276e-02 -1.52035523e-02 -7.38913985e-03\n",
      " -2.61400398e-02 -9.44042653e-02 -6.44494295e-02 -7.39705414e-02\n",
      "  1.06166191e-02 -3.95418964e-02 -4.88767810e-02 -8.30602348e-02\n",
      " -1.55425044e-02 -1.24330863e-01 -4.89063561e-02  4.87642772e-02\n",
      " -6.96051046e-02  1.75009117e-01 -1.59211606e-01 -8.10203478e-02\n",
      " -5.69773428e-02  7.64504969e-02 -1.16181135e-01 -1.17955111e-01\n",
      "  1.49757368e-02 -5.29583171e-02  9.39087756e-03 -9.01976302e-02\n",
      " -6.17446974e-02 -8.10038205e-03 -4.38595079e-02 -1.30338684e-01\n",
      "  7.72100687e-02 -1.16008528e-01  8.72949958e-02  3.06804422e-02\n",
      " -4.01622094e-02  8.67257640e-02 -5.10301255e-03 -3.20838913e-02\n",
      " -1.65162623e-01 -1.83556471e-02 -1.88528411e-02  2.83166729e-02\n",
      "  7.34861493e-02  3.01766617e-04  1.37967497e-01  8.99203569e-02\n",
      "  6.26324303e-03  5.45926578e-02 -6.22371351e-03 -1.65349785e-02\n",
      "  7.95612764e-03 -1.80520535e-01 -7.59533793e-02  1.36780187e-01\n",
      "  8.77804980e-02  2.17329226e-02  4.65873107e-02  4.70462516e-02\n",
      "  2.66679022e-02  2.79768165e-02 -4.01562043e-02 -2.73270276e-03\n",
      "  9.34284776e-02  4.24824245e-02 -5.06749339e-02 -6.21160492e-02\n",
      "  4.51791100e-03  1.25606190e-02 -3.67749557e-02 -2.98825223e-02\n",
      " -1.89580783e-01 -8.54055285e-02  8.08774773e-03  3.62898596e-02\n",
      "  3.62318382e-02  4.10274044e-02 -5.67490570e-02 -2.06640929e-01\n",
      "  4.90514301e-02 -1.17162675e-01  8.20523724e-02 -3.50628607e-02\n",
      "  9.00791213e-03 -1.81390196e-02  7.43196756e-02  5.27068079e-02\n",
      " -4.64146733e-02 -8.78238003e-04 -4.93613742e-02  7.20418021e-02\n",
      "  5.29523268e-02 -7.05145448e-02  3.52919698e-02 -2.03081518e-02\n",
      " -1.08485427e-02 -2.24162377e-02  1.12817563e-01 -1.44901797e-02\n",
      " -5.64002916e-02  1.31414579e-02 -1.08464457e-01 -3.77371386e-02\n",
      "  7.20233619e-02  1.85595378e-02  9.54916701e-02  4.78194207e-02\n",
      " -2.84131849e-03  8.57139081e-02 -5.36008067e-02  6.42786101e-02\n",
      " -1.13667920e-01  7.07216784e-02  1.75159901e-01 -1.06182210e-02\n",
      " -1.20471597e-01 -1.91027775e-01 -6.44735396e-02 -4.94508073e-04\n",
      "  3.67576093e-03 -8.14234093e-03 -9.48547572e-02 -2.35680677e-02\n",
      " -5.48888482e-02 -1.19279973e-01 -7.50232786e-02  1.83421094e-02\n",
      " -1.50059462e-01  6.22111512e-03  2.89869700e-02 -2.01365408e-02\n",
      "  9.44348201e-02 -9.35358554e-03  1.21094562e-01 -8.18470027e-03\n",
      "  5.74069917e-02  1.24481544e-02 -4.75338995e-02 -1.26671299e-01\n",
      "  2.86331605e-02 -4.60779630e-02 -9.35612544e-02  3.95859294e-02\n",
      " -8.18451494e-02  1.63711440e-02 -8.36610496e-02 -1.10580018e-02\n",
      " -5.78310080e-02 -2.66687088e-02 -9.26211104e-02  1.36568531e-01\n",
      "  2.05422416e-01  8.66014063e-02 -3.25013027e-02  4.88674268e-03]\n",
      "tensor_name:  Variable_1\n",
      "[-0.01985077  0.00650668 -0.0110775   0.00166213 -0.01957578  0.01055276\n",
      " -0.01725168  0.00047338 -0.01590168  0.00662819  0.00253409 -0.00271025\n",
      " -0.00723511  0.0027195  -0.00726697  0.00767129 -0.00303808 -0.00426335\n",
      "  0.01020325 -0.00951282  0.00490638  0.00093281 -0.02572298 -0.01092694\n",
      " -0.01771042 -0.01744305  0.00359622 -0.00478553  0.00141292 -0.00754831\n",
      " -0.00583181 -0.00766843 -0.00229473  0.00667498 -0.03697414 -0.00479259\n",
      "  0.0056843  -0.01295271  0.00647376 -0.05291769 -0.00142348 -0.00426761\n",
      " -0.02773489  0.01251481 -0.01205716 -0.01285336 -0.00864846 -0.04366838\n",
      "  0.0089124  -0.00267001 -0.03268274 -0.00666973 -0.00137093 -0.00325538\n",
      "  0.0084575  -0.00019182  0.00182759  0.00187856  0.00666706  0.00616579\n",
      " -0.00247174  0.00404162  0.00791305  0.00145978 -0.02590778 -0.02546599\n",
      " -0.00856867 -0.00493231 -0.01535164  0.01570687  0.00378052  0.02157213\n",
      " -0.00116164 -0.00668001  0.02425526 -0.00759746 -0.00940854  0.02033185\n",
      "  0.00895918 -0.02275905  0.02736499 -0.0252088   0.01769938  0.00664419\n",
      " -0.00490539 -0.01485959 -0.00212612 -0.02527197 -0.01168958  0.00666295\n",
      " -0.01141981  0.00912511 -0.01939014  0.00956438  0.00046804 -0.00157047\n",
      "  0.00729458 -0.0202991  -0.03416074  0.00634173  0.01287917  0.01688373\n",
      " -0.00089552 -0.01642836 -0.02596803 -0.01889427 -0.01591673  0.00301484\n",
      " -0.01949393 -0.00220069 -0.01024829 -0.00714068  0.0127158  -0.01389988\n",
      "  0.02413116 -0.02021344  0.00798635  0.02248588  0.00930398 -0.00538644\n",
      " -0.00041308 -0.01026331 -0.03417813 -0.0169498  -0.00546755  0.01183538\n",
      " -0.00194743 -0.02786859]\n",
      "tensor_name:  Variable_2\n",
      "[-0.02428472 -0.14287712  0.06609505  0.05657503  0.0483842  -0.05235034\n",
      "  0.06700701  0.11788615 -0.13748352  0.00096595]\n",
      "tensor_name:  W1\n",
      "[[-0.11164245 -0.03646888 -0.02135812 ...  0.01731623  0.05364357\n",
      "  -0.04537361]\n",
      " [-0.00065927  0.02700608  0.03251576 ...  0.03505871  0.0311818\n",
      "  -0.04305225]\n",
      " [ 0.01881484  0.04844284  0.07535594 ...  0.00988486 -0.00550746\n",
      "  -0.02808676]\n",
      " ...\n",
      " [ 0.03603864 -0.02041795 -0.04100268 ...  0.02027163  0.01219438\n",
      "   0.0103671 ]\n",
      " [-0.02688291 -0.09287299  0.00323099 ... -0.04533114 -0.0110076\n",
      "   0.01003711]\n",
      " [-0.00983547  0.02478348 -0.02088576 ...  0.02527832  0.02511102\n",
      "   0.01003037]]\n",
      "tensor_name:  W2\n",
      "[[-0.0113988  -0.07499528  0.00816981 ...  0.0283481   0.17433976\n",
      "  -0.17620018]\n",
      " [ 0.04588735 -0.05809485 -0.06110216 ...  0.19871075  0.02623653\n",
      "   0.15158686]\n",
      " [ 0.18902339 -0.03600992 -0.1536644  ... -0.1271439   0.04186851\n",
      "  -0.25646147]\n",
      " ...\n",
      " [-0.30617723  0.02985851  0.2171528  ...  0.23691045 -0.04591967\n",
      "   0.13547428]\n",
      " [-0.04765382  0.21856612 -0.06456657 ...  0.03693048  0.11281037\n",
      "   0.0979265 ]\n",
      " [ 0.01049226  0.13975258  0.00397193 ...  0.17114146  0.02018611\n",
      "   0.16396499]]\n",
      "tensor_name:  W3\n",
      "[[-0.42737755 -0.331935    0.18018547 ...  2.2311625  -0.4281395\n",
      "   0.20741318]\n",
      " [-0.7781336   0.9147395   0.6522959  ... -0.25533146  0.21517318\n",
      "  -0.43146324]\n",
      " [ 0.11893796 -0.25432903 -0.8302067  ...  0.24334331 -1.0202738\n",
      "  -0.83325666]\n",
      " ...\n",
      " [-0.24160719  0.8071743   0.30924314 ... -1.0724602  -0.19682898\n",
      "  -1.2369478 ]\n",
      " [-0.5354515   0.4977317  -0.15632956 ... -0.69325364  0.9291118\n",
      "   0.47427264]\n",
      " [-0.16268456 -0.62898487  0.09869959 ... -0.29502022 -0.29779658\n",
      "  -1.6744611 ]]\n"
     ]
    }
   ],
   "source": [
    "from tensorflow.python.tools.inspect_checkpoint import print_tensors_in_checkpoint_file\n",
    "print_tensors_in_checkpoint_file(\"save/mnist.ckpt-99\",None,True)"
   ]
  },
  {
   "cell_type": "code",
   "execution_count": null,
   "metadata": {
    "collapsed": true
   },
   "outputs": [],
   "source": []
  }
 ],
 "metadata": {
  "kernelspec": {
   "display_name": "Python 3",
   "language": "python",
   "name": "python3"
  },
  "language_info": {
   "codemirror_mode": {
    "name": "ipython",
    "version": 3
   },
   "file_extension": ".py",
   "mimetype": "text/x-python",
   "name": "python",
   "nbconvert_exporter": "python",
   "pygments_lexer": "ipython3",
   "version": "3.6.6"
  }
 },
 "nbformat": 4,
 "nbformat_minor": 2
}
